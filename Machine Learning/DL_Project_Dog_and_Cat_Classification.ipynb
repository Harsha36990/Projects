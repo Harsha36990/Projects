{
 "cells": [
  {
   "cell_type": "markdown",
   "metadata": {
    "id": "K_JonuXxryeE"
   },
   "source": [
    "Extracting Dataset using Kaggle API"
   ]
  },
  {
   "cell_type": "code",
   "execution_count": 2,
   "metadata": {
    "colab": {
     "base_uri": "https://localhost:8080/"
    },
    "id": "M06SX1o_rgfO",
    "outputId": "c9c59692-c8e7-4723-adfe-58aecd2e70fc"
   },
   "outputs": [
    {
     "name": "stdout",
     "output_type": "stream",
     "text": [
      "Requirement already satisfied: kaggle in c:\\users\\sri harsha\\anaconda3\\lib\\site-packages (1.5.12)\n",
      "Requirement already satisfied: certifi in c:\\users\\sri harsha\\anaconda3\\lib\\site-packages (from kaggle) (2021.10.8)\n",
      "Requirement already satisfied: python-dateutil in c:\\users\\sri harsha\\anaconda3\\lib\\site-packages (from kaggle) (2.8.2)\n",
      "Requirement already satisfied: tqdm in c:\\users\\sri harsha\\anaconda3\\lib\\site-packages (from kaggle) (4.64.0)\n",
      "Requirement already satisfied: requests in c:\\users\\sri harsha\\anaconda3\\lib\\site-packages (from kaggle) (2.27.1)\n",
      "Requirement already satisfied: python-slugify in c:\\users\\sri harsha\\anaconda3\\lib\\site-packages (from kaggle) (5.0.2)\n",
      "Requirement already satisfied: urllib3 in c:\\users\\sri harsha\\anaconda3\\lib\\site-packages (from kaggle) (1.26.9)\n",
      "Requirement already satisfied: six>=1.10 in c:\\users\\sri harsha\\anaconda3\\lib\\site-packages (from kaggle) (1.16.0)\n",
      "Requirement already satisfied: text-unidecode>=1.3 in c:\\users\\sri harsha\\anaconda3\\lib\\site-packages (from python-slugify->kaggle) (1.3)\n",
      "Requirement already satisfied: idna<4,>=2.5 in c:\\users\\sri harsha\\anaconda3\\lib\\site-packages (from requests->kaggle) (3.3)\n",
      "Requirement already satisfied: charset-normalizer~=2.0.0 in c:\\users\\sri harsha\\anaconda3\\lib\\site-packages (from requests->kaggle) (2.0.4)\n",
      "Requirement already satisfied: colorama in c:\\users\\sri harsha\\anaconda3\\lib\\site-packages (from tqdm->kaggle) (0.4.4)\n"
     ]
    }
   ],
   "source": [
    "# installing the Kaggle library\n",
    "!pip install kaggle"
   ]
  },
  {
   "cell_type": "code",
   "execution_count": 3,
   "metadata": {
    "id": "TQoR3Wsfr57H"
   },
   "outputs": [
    {
     "name": "stderr",
     "output_type": "stream",
     "text": [
      "The syntax of the command is incorrect.\n",
      "'cp' is not recognized as an internal or external command,\n",
      "operable program or batch file.\n",
      "'chmod' is not recognized as an internal or external command,\n",
      "operable program or batch file.\n"
     ]
    }
   ],
   "source": [
    "# configuring the path of Kaggle.json file\n",
    "!mkdir -p ~/.kaggle\n",
    "!cp kaggle.json ~/.kaggle/\n",
    "!chmod 600 ~/.kaggle/kaggle.json"
   ]
  },
  {
   "cell_type": "markdown",
   "metadata": {
    "id": "mu14bpRjD0rL"
   },
   "source": [
    "Importing the Dog vs Cat Dataset from Kaggle"
   ]
  },
  {
   "cell_type": "code",
   "execution_count": 4,
   "metadata": {
    "colab": {
     "base_uri": "https://localhost:8080/"
    },
    "id": "0k62KQHEDzcm",
    "outputId": "761ef467-701b-4721-9f09-2e28a7d7fb58"
   },
   "outputs": [
    {
     "name": "stderr",
     "output_type": "stream",
     "text": [
      "Traceback (most recent call last):\n",
      "  File \"C:\\Users\\Sri Harsha\\anaconda3\\lib\\runpy.py\", line 197, in _run_module_as_main\n",
      "    return _run_code(code, main_globals, None,\n",
      "  File \"C:\\Users\\Sri Harsha\\anaconda3\\lib\\runpy.py\", line 87, in _run_code\n",
      "    exec(code, run_globals)\n",
      "  File \"C:\\Users\\Sri Harsha\\anaconda3\\Scripts\\kaggle.exe\\__main__.py\", line 4, in <module>\n",
      "  File \"C:\\Users\\Sri Harsha\\anaconda3\\lib\\site-packages\\kaggle\\__init__.py\", line 23, in <module>\n",
      "    api.authenticate()\n",
      "  File \"C:\\Users\\Sri Harsha\\anaconda3\\lib\\site-packages\\kaggle\\api\\kaggle_api_extended.py\", line 164, in authenticate\n",
      "    raise IOError('Could not find {}. Make sure it\\'s located in'\n",
      "OSError: Could not find kaggle.json. Make sure it's located in C:\\Users\\Sri Harsha\\.kaggle. Or use the environment method.\n"
     ]
    }
   ],
   "source": [
    "# Kaggle api \n",
    "!kaggle competitions download -c dogs-vs-cats"
   ]
  },
  {
   "cell_type": "code",
   "execution_count": 5,
   "metadata": {
    "colab": {
     "base_uri": "https://localhost:8080/"
    },
    "id": "LFGSSIuPD-_Y",
    "outputId": "ed526b77-0eda-4e1b-aed1-03a5ed0de9e5"
   },
   "outputs": [
    {
     "name": "stderr",
     "output_type": "stream",
     "text": [
      "'ls' is not recognized as an internal or external command,\n",
      "operable program or batch file.\n"
     ]
    }
   ],
   "source": [
    "!ls"
   ]
  },
  {
   "cell_type": "code",
   "execution_count": 6,
   "metadata": {
    "colab": {
     "base_uri": "https://localhost:8080/"
    },
    "id": "4WFPhgo_EIDs",
    "outputId": "1c8edd6f-7133-4ff7-b71d-74a344a40a18"
   },
   "outputs": [
    {
     "ename": "FileNotFoundError",
     "evalue": "[Errno 2] No such file or directory: '/content/dogs-vs-cats.zip'",
     "output_type": "error",
     "traceback": [
      "\u001b[1;31m---------------------------------------------------------------------------\u001b[0m",
      "\u001b[1;31mFileNotFoundError\u001b[0m                         Traceback (most recent call last)",
      "Input \u001b[1;32mIn [6]\u001b[0m, in \u001b[0;36m<cell line: 6>\u001b[1;34m()\u001b[0m\n\u001b[0;32m      2\u001b[0m \u001b[38;5;28;01mfrom\u001b[39;00m \u001b[38;5;21;01mzipfile\u001b[39;00m \u001b[38;5;28;01mimport\u001b[39;00m ZipFile\n\u001b[0;32m      4\u001b[0m dataset \u001b[38;5;241m=\u001b[39m \u001b[38;5;124m'\u001b[39m\u001b[38;5;124m/content/dogs-vs-cats.zip\u001b[39m\u001b[38;5;124m'\u001b[39m\n\u001b[1;32m----> 6\u001b[0m \u001b[38;5;28;01mwith\u001b[39;00m \u001b[43mZipFile\u001b[49m\u001b[43m(\u001b[49m\u001b[43mdataset\u001b[49m\u001b[43m,\u001b[49m\u001b[43m \u001b[49m\u001b[38;5;124;43m'\u001b[39;49m\u001b[38;5;124;43mr\u001b[39;49m\u001b[38;5;124;43m'\u001b[39;49m\u001b[43m)\u001b[49m \u001b[38;5;28;01mas\u001b[39;00m \u001b[38;5;28mzip\u001b[39m:\n\u001b[0;32m      7\u001b[0m   \u001b[38;5;28mzip\u001b[39m\u001b[38;5;241m.\u001b[39mextractall()\n\u001b[0;32m      8\u001b[0m   \u001b[38;5;28mprint\u001b[39m(\u001b[38;5;124m'\u001b[39m\u001b[38;5;124mThe dataset is extracted\u001b[39m\u001b[38;5;124m'\u001b[39m)\n",
      "File \u001b[1;32m~\\anaconda3\\lib\\zipfile.py:1248\u001b[0m, in \u001b[0;36mZipFile.__init__\u001b[1;34m(self, file, mode, compression, allowZip64, compresslevel, strict_timestamps)\u001b[0m\n\u001b[0;32m   1246\u001b[0m \u001b[38;5;28;01mwhile\u001b[39;00m \u001b[38;5;28;01mTrue\u001b[39;00m:\n\u001b[0;32m   1247\u001b[0m     \u001b[38;5;28;01mtry\u001b[39;00m:\n\u001b[1;32m-> 1248\u001b[0m         \u001b[38;5;28mself\u001b[39m\u001b[38;5;241m.\u001b[39mfp \u001b[38;5;241m=\u001b[39m \u001b[43mio\u001b[49m\u001b[38;5;241;43m.\u001b[39;49m\u001b[43mopen\u001b[49m\u001b[43m(\u001b[49m\u001b[43mfile\u001b[49m\u001b[43m,\u001b[49m\u001b[43m \u001b[49m\u001b[43mfilemode\u001b[49m\u001b[43m)\u001b[49m\n\u001b[0;32m   1249\u001b[0m     \u001b[38;5;28;01mexcept\u001b[39;00m \u001b[38;5;167;01mOSError\u001b[39;00m:\n\u001b[0;32m   1250\u001b[0m         \u001b[38;5;28;01mif\u001b[39;00m filemode \u001b[38;5;129;01min\u001b[39;00m modeDict:\n",
      "\u001b[1;31mFileNotFoundError\u001b[0m: [Errno 2] No such file or directory: '/content/dogs-vs-cats.zip'"
     ]
    }
   ],
   "source": [
    "# extracting the compressed dataset\n",
    "from zipfile import ZipFile\n",
    "\n",
    "dataset = '/content/dogs-vs-cats.zip'\n",
    "\n",
    "with ZipFile(dataset, 'r') as zip:\n",
    "  zip.extractall()\n",
    "  print('The dataset is extracted')"
   ]
  },
  {
   "cell_type": "code",
   "execution_count": null,
   "metadata": {
    "colab": {
     "base_uri": "https://localhost:8080/"
    },
    "id": "7iJGNuDZEjqf",
    "outputId": "a0a2ecff-805b-432b-f149-348f3f92106e"
   },
   "outputs": [],
   "source": [
    "# extracting the compressed dataset\n",
    "from zipfile import ZipFile\n",
    "\n",
    "dataset = '/content/train.zip'\n",
    "\n",
    "with ZipFile(dataset, 'r') as zip:\n",
    "  zip.extractall()\n",
    "  print('The dataset is extracted')"
   ]
  },
  {
   "cell_type": "code",
   "execution_count": null,
   "metadata": {
    "colab": {
     "base_uri": "https://localhost:8080/"
    },
    "id": "mAlcKCYTEvPl",
    "outputId": "7fb94dfc-8160-48c8-eb0c-f1ac7de291b1"
   },
   "outputs": [],
   "source": [
    "import os\n",
    "# counting the number of files in train folder\n",
    "path, dirs, files = next(os.walk('/content/train'))\n",
    "file_count = len(files)\n",
    "print('Number of images: ', file_count)"
   ]
  },
  {
   "cell_type": "markdown",
   "metadata": {
    "id": "bKz6myHaFTSw"
   },
   "source": [
    "Printing the name of images"
   ]
  },
  {
   "cell_type": "code",
   "execution_count": null,
   "metadata": {
    "colab": {
     "base_uri": "https://localhost:8080/"
    },
    "id": "F75fuDmfFN-j",
    "outputId": "690d5b93-a2a8-474d-a0c6-b7d52a7f9ef7"
   },
   "outputs": [],
   "source": [
    "file_names = os.listdir('/content/train/')\n",
    "print(file_names)"
   ]
  },
  {
   "cell_type": "markdown",
   "metadata": {
    "id": "2uSNaLzMFoih"
   },
   "source": [
    "Importing the Dependencies"
   ]
  },
  {
   "cell_type": "code",
   "execution_count": null,
   "metadata": {
    "id": "IAk59G4sFdeL"
   },
   "outputs": [],
   "source": [
    "import numpy as np\n",
    "from PIL import Image\n",
    "import matplotlib.pyplot as plt \n",
    "import matplotlib.image as mpimg\n",
    "from sklearn.model_selection import train_test_split\n",
    "from google.colab.patches import cv2_imshow "
   ]
  },
  {
   "cell_type": "markdown",
   "metadata": {
    "id": "gg01hOAXGLRA"
   },
   "source": [
    "Displaying the images of dogs and cats"
   ]
  },
  {
   "cell_type": "code",
   "execution_count": null,
   "metadata": {
    "colab": {
     "base_uri": "https://localhost:8080/",
     "height": 269
    },
    "id": "_QBxQogmGHAq",
    "outputId": "fbd54379-7c3b-4d1d-a0b8-8e7dfc3163eb"
   },
   "outputs": [],
   "source": [
    "# display dog image\n",
    "img = mpimg.imread('/content/train/dog.8298.jpg')\n",
    "imgplt = plt.imshow(img)\n",
    "plt.show()"
   ]
  },
  {
   "cell_type": "code",
   "execution_count": null,
   "metadata": {
    "colab": {
     "base_uri": "https://localhost:8080/",
     "height": 269
    },
    "id": "PKFLLUH8Glvf",
    "outputId": "f00a3fb3-1c35-4a0f-ae75-3668073dab3d"
   },
   "outputs": [],
   "source": [
    "# display cat image\n",
    "img = mpimg.imread('/content/train/cat.4352.jpg')\n",
    "imgplt = plt.imshow(img)\n",
    "plt.show()"
   ]
  },
  {
   "cell_type": "code",
   "execution_count": null,
   "metadata": {
    "colab": {
     "base_uri": "https://localhost:8080/"
    },
    "id": "JuXLXgNAHuW6",
    "outputId": "462906b1-ba0e-4a33-e606-bd6a54cd3972"
   },
   "outputs": [],
   "source": [
    "file_names = os.listdir('/content/train/')\n",
    "\n",
    "for i in range(5):\n",
    "\n",
    "  name = file_names[i] \n",
    "  print(name[0:3])\n",
    "\n"
   ]
  },
  {
   "cell_type": "code",
   "execution_count": null,
   "metadata": {
    "colab": {
     "base_uri": "https://localhost:8080/"
    },
    "id": "p3HZCRY5HuJq",
    "outputId": "0ec7be12-0da6-453b-ebb9-c218c583d08c"
   },
   "outputs": [],
   "source": [
    "file_names = os.listdir('/content/train/')\n",
    "\n",
    "dog_count = 0\n",
    "cat_count = 0\n",
    "\n",
    "for img_file in file_names:\n",
    "\n",
    "  name = img_file[0:3]\n",
    "\n",
    "  if name == 'dog':\n",
    "    dog_count += 1\n",
    "\n",
    "  else:\n",
    "    cat_count += 1\n",
    "\n",
    "print('Number of dog images =', dog_count)\n",
    "print('Number of cat images =', cat_count)"
   ]
  },
  {
   "cell_type": "markdown",
   "metadata": {
    "id": "uvB767WqHWgd"
   },
   "source": [
    "Resizing all the images"
   ]
  },
  {
   "cell_type": "code",
   "execution_count": null,
   "metadata": {
    "id": "4FgKf7qvG6rQ"
   },
   "outputs": [],
   "source": [
    "#creating a directory for resized images\n",
    "os.mkdir('/content/image resized')"
   ]
  },
  {
   "cell_type": "code",
   "execution_count": null,
   "metadata": {
    "id": "WYs3bKadJG-t"
   },
   "outputs": [],
   "source": [
    "original_folder = '/content/train/'\n",
    "resized_folder = '/content/image resized/'\n",
    "\n",
    "for i in range(2000):\n",
    "\n",
    "  filename = os.listdir(original_folder)[i]\n",
    "  img_path = original_folder+filename\n",
    "\n",
    "  img = Image.open(img_path)\n",
    "  img = img.resize((224, 224))\n",
    "  img = img.convert('RGB')\n",
    "\n",
    "  newImgPath = resized_folder+filename\n",
    "  img.save(newImgPath)"
   ]
  },
  {
   "cell_type": "code",
   "execution_count": null,
   "metadata": {
    "colab": {
     "base_uri": "https://localhost:8080/",
     "height": 269
    },
    "id": "zG03YeuYKt87",
    "outputId": "326a66e7-a29b-4e29-8a51-484fe3e98c94"
   },
   "outputs": [],
   "source": [
    "# display resized dog image\n",
    "img = mpimg.imread('/content/image resized/dog.8298.jpg')\n",
    "imgplt = plt.imshow(img)\n",
    "plt.show()"
   ]
  },
  {
   "cell_type": "code",
   "execution_count": null,
   "metadata": {
    "colab": {
     "base_uri": "https://localhost:8080/",
     "height": 269
    },
    "id": "f6e78c5EK7yM",
    "outputId": "16bd71bf-cd21-4b7d-f279-4a0e028434a5"
   },
   "outputs": [],
   "source": [
    "# display resized cat image\n",
    "img = mpimg.imread('/content/image resized/cat.4352.jpg')\n",
    "imgplt = plt.imshow(img)\n",
    "plt.show()"
   ]
  },
  {
   "cell_type": "markdown",
   "metadata": {
    "id": "gGTM-7xwLVXZ"
   },
   "source": [
    "**Creating labels for resized images of dogs and cats**"
   ]
  },
  {
   "cell_type": "markdown",
   "metadata": {
    "id": "jZ8HSEQVLbtv"
   },
   "source": [
    "Cat --> 0\n",
    "\n",
    "Dog --> 1"
   ]
  },
  {
   "cell_type": "code",
   "execution_count": null,
   "metadata": {
    "id": "9XpL5WtCLGW5"
   },
   "outputs": [],
   "source": [
    "# creaing a for loop to assign labels\n",
    "filenames = os.listdir('/content/image resized/')\n",
    "\n",
    "\n",
    "labels = []\n",
    "\n",
    "for i in range(2000):\n",
    "\n",
    "  file_name = filenames[i]\n",
    "  label = file_name[0:3]\n",
    "\n",
    "  if label == 'dog':\n",
    "    labels.append(1)\n",
    "\n",
    "  else:\n",
    "    labels.append(0)"
   ]
  },
  {
   "cell_type": "code",
   "execution_count": null,
   "metadata": {
    "colab": {
     "base_uri": "https://localhost:8080/"
    },
    "id": "XcFb0nFSMeyZ",
    "outputId": "b9d6c1e1-8f84-4dcc-b8b0-4a29ac5f7f4b"
   },
   "outputs": [],
   "source": [
    "print(filenames[0:5])\n",
    "print(len(filenames))"
   ]
  },
  {
   "cell_type": "code",
   "execution_count": null,
   "metadata": {
    "colab": {
     "base_uri": "https://localhost:8080/"
    },
    "id": "bXz_zlbBMiFY",
    "outputId": "68213a64-6e3e-4e1b-d1a7-7d1b3ee1f2b4"
   },
   "outputs": [],
   "source": [
    "print(labels[0:5])\n",
    "print(len(labels))"
   ]
  },
  {
   "cell_type": "code",
   "execution_count": null,
   "metadata": {
    "colab": {
     "base_uri": "https://localhost:8080/"
    },
    "id": "EIrB_amVMtRW",
    "outputId": "68193953-355b-4fc8-ac99-cae322274330"
   },
   "outputs": [],
   "source": [
    "# counting the images of dogs and cats out of 2000 images\n",
    "values, counts = np.unique(labels, return_counts=True)\n",
    "print(values)\n",
    "print(counts)"
   ]
  },
  {
   "cell_type": "markdown",
   "metadata": {
    "id": "epKKuREqNcTk"
   },
   "source": [
    "Converting all the resized images to numpy arrays"
   ]
  },
  {
   "cell_type": "code",
   "execution_count": 7,
   "metadata": {
    "id": "Y9i633hANLSq"
   },
   "outputs": [
    {
     "ename": "ModuleNotFoundError",
     "evalue": "No module named 'cv2'",
     "output_type": "error",
     "traceback": [
      "\u001b[1;31m---------------------------------------------------------------------------\u001b[0m",
      "\u001b[1;31mModuleNotFoundError\u001b[0m                       Traceback (most recent call last)",
      "Input \u001b[1;32mIn [7]\u001b[0m, in \u001b[0;36m<cell line: 1>\u001b[1;34m()\u001b[0m\n\u001b[1;32m----> 1\u001b[0m \u001b[38;5;28;01mimport\u001b[39;00m \u001b[38;5;21;01mcv2\u001b[39;00m\n\u001b[0;32m      2\u001b[0m \u001b[38;5;28;01mimport\u001b[39;00m \u001b[38;5;21;01mglob\u001b[39;00m\n",
      "\u001b[1;31mModuleNotFoundError\u001b[0m: No module named 'cv2'"
     ]
    }
   ],
   "source": [
    "import cv2\n",
    "import glob"
   ]
  },
  {
   "cell_type": "code",
   "execution_count": 8,
   "metadata": {
    "id": "A2KwmgVwNi4z"
   },
   "outputs": [
    {
     "ename": "NameError",
     "evalue": "name 'glob' is not defined",
     "output_type": "error",
     "traceback": [
      "\u001b[1;31m---------------------------------------------------------------------------\u001b[0m",
      "\u001b[1;31mNameError\u001b[0m                                 Traceback (most recent call last)",
      "Input \u001b[1;32mIn [8]\u001b[0m, in \u001b[0;36m<cell line: 6>\u001b[1;34m()\u001b[0m\n\u001b[0;32m      2\u001b[0m image_extension \u001b[38;5;241m=\u001b[39m [\u001b[38;5;124m'\u001b[39m\u001b[38;5;124mpng\u001b[39m\u001b[38;5;124m'\u001b[39m, \u001b[38;5;124m'\u001b[39m\u001b[38;5;124mjpg\u001b[39m\u001b[38;5;124m'\u001b[39m]\n\u001b[0;32m      4\u001b[0m files \u001b[38;5;241m=\u001b[39m []\n\u001b[1;32m----> 6\u001b[0m [files\u001b[38;5;241m.\u001b[39mextend(glob\u001b[38;5;241m.\u001b[39mglob(image_directory \u001b[38;5;241m+\u001b[39m \u001b[38;5;124m'\u001b[39m\u001b[38;5;124m*.\u001b[39m\u001b[38;5;124m'\u001b[39m \u001b[38;5;241m+\u001b[39m e)) \u001b[38;5;28;01mfor\u001b[39;00m e \u001b[38;5;129;01min\u001b[39;00m image_extension]\n\u001b[0;32m      8\u001b[0m dog_cat_images \u001b[38;5;241m=\u001b[39m np\u001b[38;5;241m.\u001b[39masarray([cv2\u001b[38;5;241m.\u001b[39mimread(file) \u001b[38;5;28;01mfor\u001b[39;00m file \u001b[38;5;129;01min\u001b[39;00m files])\n",
      "Input \u001b[1;32mIn [8]\u001b[0m, in \u001b[0;36m<listcomp>\u001b[1;34m(.0)\u001b[0m\n\u001b[0;32m      2\u001b[0m image_extension \u001b[38;5;241m=\u001b[39m [\u001b[38;5;124m'\u001b[39m\u001b[38;5;124mpng\u001b[39m\u001b[38;5;124m'\u001b[39m, \u001b[38;5;124m'\u001b[39m\u001b[38;5;124mjpg\u001b[39m\u001b[38;5;124m'\u001b[39m]\n\u001b[0;32m      4\u001b[0m files \u001b[38;5;241m=\u001b[39m []\n\u001b[1;32m----> 6\u001b[0m [files\u001b[38;5;241m.\u001b[39mextend(\u001b[43mglob\u001b[49m\u001b[38;5;241m.\u001b[39mglob(image_directory \u001b[38;5;241m+\u001b[39m \u001b[38;5;124m'\u001b[39m\u001b[38;5;124m*.\u001b[39m\u001b[38;5;124m'\u001b[39m \u001b[38;5;241m+\u001b[39m e)) \u001b[38;5;28;01mfor\u001b[39;00m e \u001b[38;5;129;01min\u001b[39;00m image_extension]\n\u001b[0;32m      8\u001b[0m dog_cat_images \u001b[38;5;241m=\u001b[39m np\u001b[38;5;241m.\u001b[39masarray([cv2\u001b[38;5;241m.\u001b[39mimread(file) \u001b[38;5;28;01mfor\u001b[39;00m file \u001b[38;5;129;01min\u001b[39;00m files])\n",
      "\u001b[1;31mNameError\u001b[0m: name 'glob' is not defined"
     ]
    }
   ],
   "source": [
    "image_directory = '/content/image resized/'\n",
    "image_extension = ['png', 'jpg']\n",
    "\n",
    "files = []\n",
    "\n",
    "[files.extend(glob.glob(image_directory + '*.' + e)) for e in image_extension]\n",
    "\n",
    "dog_cat_images = np.asarray([cv2.imread(file) for file in files])"
   ]
  },
  {
   "cell_type": "code",
   "execution_count": 9,
   "metadata": {
    "colab": {
     "base_uri": "https://localhost:8080/"
    },
    "id": "KqJVVGsrOLpP",
    "outputId": "12506db3-a190-454f-c9b6-d520cedeb919"
   },
   "outputs": [
    {
     "ename": "NameError",
     "evalue": "name 'dog_cat_images' is not defined",
     "output_type": "error",
     "traceback": [
      "\u001b[1;31m---------------------------------------------------------------------------\u001b[0m",
      "\u001b[1;31mNameError\u001b[0m                                 Traceback (most recent call last)",
      "Input \u001b[1;32mIn [9]\u001b[0m, in \u001b[0;36m<cell line: 1>\u001b[1;34m()\u001b[0m\n\u001b[1;32m----> 1\u001b[0m \u001b[38;5;28mprint\u001b[39m(\u001b[43mdog_cat_images\u001b[49m)\n",
      "\u001b[1;31mNameError\u001b[0m: name 'dog_cat_images' is not defined"
     ]
    }
   ],
   "source": [
    "print(dog_cat_images)"
   ]
  },
  {
   "cell_type": "code",
   "execution_count": 10,
   "metadata": {
    "colab": {
     "base_uri": "https://localhost:8080/"
    },
    "id": "UWtD99-oOrc3",
    "outputId": "fefc259d-9bfb-49fa-fe74-7672e88276cb"
   },
   "outputs": [
    {
     "ename": "NameError",
     "evalue": "name 'dog_cat_images' is not defined",
     "output_type": "error",
     "traceback": [
      "\u001b[1;31m---------------------------------------------------------------------------\u001b[0m",
      "\u001b[1;31mNameError\u001b[0m                                 Traceback (most recent call last)",
      "Input \u001b[1;32mIn [10]\u001b[0m, in \u001b[0;36m<cell line: 1>\u001b[1;34m()\u001b[0m\n\u001b[1;32m----> 1\u001b[0m \u001b[38;5;28mtype\u001b[39m(\u001b[43mdog_cat_images\u001b[49m)\n",
      "\u001b[1;31mNameError\u001b[0m: name 'dog_cat_images' is not defined"
     ]
    }
   ],
   "source": [
    "type(dog_cat_images)"
   ]
  },
  {
   "cell_type": "code",
   "execution_count": 11,
   "metadata": {
    "colab": {
     "base_uri": "https://localhost:8080/"
    },
    "id": "5vlHkaenOwIx",
    "outputId": "263f11df-e6fc-44f6-c266-656ede456b9b"
   },
   "outputs": [
    {
     "ename": "NameError",
     "evalue": "name 'dog_cat_images' is not defined",
     "output_type": "error",
     "traceback": [
      "\u001b[1;31m---------------------------------------------------------------------------\u001b[0m",
      "\u001b[1;31mNameError\u001b[0m                                 Traceback (most recent call last)",
      "Input \u001b[1;32mIn [11]\u001b[0m, in \u001b[0;36m<cell line: 1>\u001b[1;34m()\u001b[0m\n\u001b[1;32m----> 1\u001b[0m \u001b[38;5;28mprint\u001b[39m(\u001b[43mdog_cat_images\u001b[49m\u001b[38;5;241m.\u001b[39mshape)\n",
      "\u001b[1;31mNameError\u001b[0m: name 'dog_cat_images' is not defined"
     ]
    }
   ],
   "source": [
    "print(dog_cat_images.shape)"
   ]
  },
  {
   "cell_type": "code",
   "execution_count": 12,
   "metadata": {
    "id": "1pkNK7bdO3PT"
   },
   "outputs": [
    {
     "ename": "NameError",
     "evalue": "name 'dog_cat_images' is not defined",
     "output_type": "error",
     "traceback": [
      "\u001b[1;31m---------------------------------------------------------------------------\u001b[0m",
      "\u001b[1;31mNameError\u001b[0m                                 Traceback (most recent call last)",
      "Input \u001b[1;32mIn [12]\u001b[0m, in \u001b[0;36m<cell line: 1>\u001b[1;34m()\u001b[0m\n\u001b[1;32m----> 1\u001b[0m X \u001b[38;5;241m=\u001b[39m \u001b[43mdog_cat_images\u001b[49m\n\u001b[0;32m      2\u001b[0m Y \u001b[38;5;241m=\u001b[39m np\u001b[38;5;241m.\u001b[39masarray(labels)\n",
      "\u001b[1;31mNameError\u001b[0m: name 'dog_cat_images' is not defined"
     ]
    }
   ],
   "source": [
    "X = dog_cat_images\n",
    "Y = np.asarray(labels)"
   ]
  },
  {
   "cell_type": "markdown",
   "metadata": {
    "id": "9WrS9cX3PQ5g"
   },
   "source": [
    "**Train Test Split**"
   ]
  },
  {
   "cell_type": "code",
   "execution_count": 13,
   "metadata": {
    "id": "SktR0ZZbPOec"
   },
   "outputs": [
    {
     "ename": "NameError",
     "evalue": "name 'train_test_split' is not defined",
     "output_type": "error",
     "traceback": [
      "\u001b[1;31m---------------------------------------------------------------------------\u001b[0m",
      "\u001b[1;31mNameError\u001b[0m                                 Traceback (most recent call last)",
      "Input \u001b[1;32mIn [13]\u001b[0m, in \u001b[0;36m<cell line: 1>\u001b[1;34m()\u001b[0m\n\u001b[1;32m----> 1\u001b[0m X_train, X_test, Y_train, Y_test \u001b[38;5;241m=\u001b[39m \u001b[43mtrain_test_split\u001b[49m(X, Y, test_size\u001b[38;5;241m=\u001b[39m\u001b[38;5;241m0.2\u001b[39m, random_state\u001b[38;5;241m=\u001b[39m\u001b[38;5;241m2\u001b[39m)\n",
      "\u001b[1;31mNameError\u001b[0m: name 'train_test_split' is not defined"
     ]
    }
   ],
   "source": [
    "X_train, X_test, Y_train, Y_test = train_test_split(X, Y, test_size=0.2, random_state=2)"
   ]
  },
  {
   "cell_type": "code",
   "execution_count": 14,
   "metadata": {
    "colab": {
     "base_uri": "https://localhost:8080/"
    },
    "id": "IiGq7UUFP1H0",
    "outputId": "2e4c6e02-fad0-4da8-fe3d-b04b22ebc1fd"
   },
   "outputs": [
    {
     "ename": "NameError",
     "evalue": "name 'X' is not defined",
     "output_type": "error",
     "traceback": [
      "\u001b[1;31m---------------------------------------------------------------------------\u001b[0m",
      "\u001b[1;31mNameError\u001b[0m                                 Traceback (most recent call last)",
      "Input \u001b[1;32mIn [14]\u001b[0m, in \u001b[0;36m<cell line: 1>\u001b[1;34m()\u001b[0m\n\u001b[1;32m----> 1\u001b[0m \u001b[38;5;28mprint\u001b[39m(\u001b[43mX\u001b[49m\u001b[38;5;241m.\u001b[39mshape, X_train\u001b[38;5;241m.\u001b[39mshape, X_test\u001b[38;5;241m.\u001b[39mshape)\n",
      "\u001b[1;31mNameError\u001b[0m: name 'X' is not defined"
     ]
    }
   ],
   "source": [
    "print(X.shape, X_train.shape, X_test.shape)"
   ]
  },
  {
   "cell_type": "markdown",
   "metadata": {
    "id": "h0jmjsrSP_Yt"
   },
   "source": [
    "1600 --> training images\n",
    "\n",
    "400 --> test images"
   ]
  },
  {
   "cell_type": "code",
   "execution_count": 15,
   "metadata": {
    "id": "Hb7mqRu3P6Nu"
   },
   "outputs": [
    {
     "ename": "NameError",
     "evalue": "name 'X_train' is not defined",
     "output_type": "error",
     "traceback": [
      "\u001b[1;31m---------------------------------------------------------------------------\u001b[0m",
      "\u001b[1;31mNameError\u001b[0m                                 Traceback (most recent call last)",
      "Input \u001b[1;32mIn [15]\u001b[0m, in \u001b[0;36m<cell line: 2>\u001b[1;34m()\u001b[0m\n\u001b[0;32m      1\u001b[0m \u001b[38;5;66;03m# scaling the data\u001b[39;00m\n\u001b[1;32m----> 2\u001b[0m X_train_scaled \u001b[38;5;241m=\u001b[39m \u001b[43mX_train\u001b[49m\u001b[38;5;241m/\u001b[39m\u001b[38;5;241m255\u001b[39m\n\u001b[0;32m      4\u001b[0m X_test_scaled \u001b[38;5;241m=\u001b[39m X_test\u001b[38;5;241m/\u001b[39m\u001b[38;5;241m255\u001b[39m\n",
      "\u001b[1;31mNameError\u001b[0m: name 'X_train' is not defined"
     ]
    }
   ],
   "source": [
    "# scaling the data\n",
    "X_train_scaled = X_train/255\n",
    "\n",
    "X_test_scaled = X_test/255"
   ]
  },
  {
   "cell_type": "code",
   "execution_count": 16,
   "metadata": {
    "colab": {
     "base_uri": "https://localhost:8080/"
    },
    "id": "74l5PSmxQpDS",
    "outputId": "88dddb2a-5ae3-4cf3-ee6b-b5c94f6102c9"
   },
   "outputs": [
    {
     "ename": "NameError",
     "evalue": "name 'X_train_scaled' is not defined",
     "output_type": "error",
     "traceback": [
      "\u001b[1;31m---------------------------------------------------------------------------\u001b[0m",
      "\u001b[1;31mNameError\u001b[0m                                 Traceback (most recent call last)",
      "Input \u001b[1;32mIn [16]\u001b[0m, in \u001b[0;36m<cell line: 1>\u001b[1;34m()\u001b[0m\n\u001b[1;32m----> 1\u001b[0m \u001b[38;5;28mprint\u001b[39m(\u001b[43mX_train_scaled\u001b[49m)\n",
      "\u001b[1;31mNameError\u001b[0m: name 'X_train_scaled' is not defined"
     ]
    }
   ],
   "source": [
    "print(X_train_scaled)"
   ]
  },
  {
   "cell_type": "markdown",
   "metadata": {
    "id": "hkU_lxUfQwkt"
   },
   "source": [
    "**Building the Neural Network**"
   ]
  },
  {
   "cell_type": "code",
   "execution_count": 17,
   "metadata": {
    "id": "txzky75fQtmB"
   },
   "outputs": [
    {
     "ename": "ModuleNotFoundError",
     "evalue": "No module named 'tensorflow'",
     "output_type": "error",
     "traceback": [
      "\u001b[1;31m---------------------------------------------------------------------------\u001b[0m",
      "\u001b[1;31mModuleNotFoundError\u001b[0m                       Traceback (most recent call last)",
      "Input \u001b[1;32mIn [17]\u001b[0m, in \u001b[0;36m<cell line: 1>\u001b[1;34m()\u001b[0m\n\u001b[1;32m----> 1\u001b[0m \u001b[38;5;28;01mimport\u001b[39;00m \u001b[38;5;21;01mtensorflow\u001b[39;00m \u001b[38;5;28;01mas\u001b[39;00m \u001b[38;5;21;01mtf\u001b[39;00m\n\u001b[0;32m      2\u001b[0m \u001b[38;5;28;01mimport\u001b[39;00m \u001b[38;5;21;01mtensorflow_hub\u001b[39;00m \u001b[38;5;28;01mas\u001b[39;00m \u001b[38;5;21;01mhub\u001b[39;00m\n",
      "\u001b[1;31mModuleNotFoundError\u001b[0m: No module named 'tensorflow'"
     ]
    }
   ],
   "source": [
    "import tensorflow as tf\n",
    "import tensorflow_hub as hub"
   ]
  },
  {
   "cell_type": "code",
   "execution_count": 18,
   "metadata": {
    "id": "iMum2VbaQ6ML"
   },
   "outputs": [
    {
     "ename": "NameError",
     "evalue": "name 'hub' is not defined",
     "output_type": "error",
     "traceback": [
      "\u001b[1;31m---------------------------------------------------------------------------\u001b[0m",
      "\u001b[1;31mNameError\u001b[0m                                 Traceback (most recent call last)",
      "Input \u001b[1;32mIn [18]\u001b[0m, in \u001b[0;36m<cell line: 3>\u001b[1;34m()\u001b[0m\n\u001b[0;32m      1\u001b[0m mobilenet_model \u001b[38;5;241m=\u001b[39m \u001b[38;5;124m'\u001b[39m\u001b[38;5;124mhttps://tfhub.dev/google/tf2-preview/mobilenet_v2/feature_vector/4\u001b[39m\u001b[38;5;124m'\u001b[39m\n\u001b[1;32m----> 3\u001b[0m pretrained_model \u001b[38;5;241m=\u001b[39m \u001b[43mhub\u001b[49m\u001b[38;5;241m.\u001b[39mKerasLayer(mobilenet_model, input_shape\u001b[38;5;241m=\u001b[39m(\u001b[38;5;241m224\u001b[39m,\u001b[38;5;241m224\u001b[39m,\u001b[38;5;241m3\u001b[39m), trainable\u001b[38;5;241m=\u001b[39m\u001b[38;5;28;01mFalse\u001b[39;00m)\n",
      "\u001b[1;31mNameError\u001b[0m: name 'hub' is not defined"
     ]
    }
   ],
   "source": [
    "mobilenet_model = 'https://tfhub.dev/google/tf2-preview/mobilenet_v2/feature_vector/4'\n",
    "\n",
    "pretrained_model = hub.KerasLayer(mobilenet_model, input_shape=(224,224,3), trainable=False)"
   ]
  },
  {
   "cell_type": "code",
   "execution_count": 19,
   "metadata": {
    "colab": {
     "base_uri": "https://localhost:8080/"
    },
    "id": "w-xLFNA-RXti",
    "outputId": "639e52d0-4ebc-4f41-812a-89d7221cbc7b"
   },
   "outputs": [
    {
     "ename": "NameError",
     "evalue": "name 'tf' is not defined",
     "output_type": "error",
     "traceback": [
      "\u001b[1;31m---------------------------------------------------------------------------\u001b[0m",
      "\u001b[1;31mNameError\u001b[0m                                 Traceback (most recent call last)",
      "Input \u001b[1;32mIn [19]\u001b[0m, in \u001b[0;36m<cell line: 3>\u001b[1;34m()\u001b[0m\n\u001b[0;32m      1\u001b[0m num_of_classes \u001b[38;5;241m=\u001b[39m \u001b[38;5;241m2\u001b[39m\n\u001b[1;32m----> 3\u001b[0m model \u001b[38;5;241m=\u001b[39m \u001b[43mtf\u001b[49m\u001b[38;5;241m.\u001b[39mkeras\u001b[38;5;241m.\u001b[39mSequential([\n\u001b[0;32m      4\u001b[0m     \n\u001b[0;32m      5\u001b[0m     pretrained_model,\n\u001b[0;32m      6\u001b[0m     tf\u001b[38;5;241m.\u001b[39mkeras\u001b[38;5;241m.\u001b[39mlayers\u001b[38;5;241m.\u001b[39mDense(num_of_classes)\n\u001b[0;32m      7\u001b[0m \n\u001b[0;32m      8\u001b[0m ])\n\u001b[0;32m     10\u001b[0m model\u001b[38;5;241m.\u001b[39msummary()\n",
      "\u001b[1;31mNameError\u001b[0m: name 'tf' is not defined"
     ]
    }
   ],
   "source": [
    "num_of_classes = 2\n",
    "\n",
    "model = tf.keras.Sequential([\n",
    "    \n",
    "    pretrained_model,\n",
    "    tf.keras.layers.Dense(num_of_classes)\n",
    "\n",
    "])\n",
    "\n",
    "model.summary()"
   ]
  },
  {
   "cell_type": "code",
   "execution_count": 20,
   "metadata": {
    "id": "MgFU8HGLR0p1"
   },
   "outputs": [
    {
     "ename": "NameError",
     "evalue": "name 'model' is not defined",
     "output_type": "error",
     "traceback": [
      "\u001b[1;31m---------------------------------------------------------------------------\u001b[0m",
      "\u001b[1;31mNameError\u001b[0m                                 Traceback (most recent call last)",
      "Input \u001b[1;32mIn [20]\u001b[0m, in \u001b[0;36m<cell line: 1>\u001b[1;34m()\u001b[0m\n\u001b[1;32m----> 1\u001b[0m \u001b[43mmodel\u001b[49m\u001b[38;5;241m.\u001b[39mcompile(\n\u001b[0;32m      2\u001b[0m     optimizer \u001b[38;5;241m=\u001b[39m \u001b[38;5;124m'\u001b[39m\u001b[38;5;124madam\u001b[39m\u001b[38;5;124m'\u001b[39m,\n\u001b[0;32m      3\u001b[0m     loss \u001b[38;5;241m=\u001b[39m tf\u001b[38;5;241m.\u001b[39mkeras\u001b[38;5;241m.\u001b[39mlosses\u001b[38;5;241m.\u001b[39mSparseCategoricalCrossentropy(from_logits\u001b[38;5;241m=\u001b[39m\u001b[38;5;28;01mTrue\u001b[39;00m),\n\u001b[0;32m      4\u001b[0m     metrics \u001b[38;5;241m=\u001b[39m [\u001b[38;5;124m'\u001b[39m\u001b[38;5;124macc\u001b[39m\u001b[38;5;124m'\u001b[39m]\n\u001b[0;32m      5\u001b[0m )\n",
      "\u001b[1;31mNameError\u001b[0m: name 'model' is not defined"
     ]
    }
   ],
   "source": [
    "model.compile(\n",
    "    optimizer = 'adam',\n",
    "    loss = tf.keras.losses.SparseCategoricalCrossentropy(from_logits=True),\n",
    "    metrics = ['acc']\n",
    ")"
   ]
  },
  {
   "cell_type": "code",
   "execution_count": 21,
   "metadata": {
    "colab": {
     "base_uri": "https://localhost:8080/"
    },
    "id": "JrSQtN5eSgeV",
    "outputId": "ad8669cb-ffb3-49fc-b885-72cb51c637b9"
   },
   "outputs": [
    {
     "ename": "NameError",
     "evalue": "name 'model' is not defined",
     "output_type": "error",
     "traceback": [
      "\u001b[1;31m---------------------------------------------------------------------------\u001b[0m",
      "\u001b[1;31mNameError\u001b[0m                                 Traceback (most recent call last)",
      "Input \u001b[1;32mIn [21]\u001b[0m, in \u001b[0;36m<cell line: 1>\u001b[1;34m()\u001b[0m\n\u001b[1;32m----> 1\u001b[0m \u001b[43mmodel\u001b[49m\u001b[38;5;241m.\u001b[39mfit(X_train_scaled, Y_train, epochs\u001b[38;5;241m=\u001b[39m\u001b[38;5;241m5\u001b[39m)\n",
      "\u001b[1;31mNameError\u001b[0m: name 'model' is not defined"
     ]
    }
   ],
   "source": [
    "model.fit(X_train_scaled, Y_train, epochs=5)"
   ]
  },
  {
   "cell_type": "code",
   "execution_count": 22,
   "metadata": {
    "colab": {
     "base_uri": "https://localhost:8080/"
    },
    "id": "_H6s8NN6Suzz",
    "outputId": "97008849-6f24-4399-86f3-a7b5cf795142"
   },
   "outputs": [
    {
     "ename": "NameError",
     "evalue": "name 'model' is not defined",
     "output_type": "error",
     "traceback": [
      "\u001b[1;31m---------------------------------------------------------------------------\u001b[0m",
      "\u001b[1;31mNameError\u001b[0m                                 Traceback (most recent call last)",
      "Input \u001b[1;32mIn [22]\u001b[0m, in \u001b[0;36m<cell line: 1>\u001b[1;34m()\u001b[0m\n\u001b[1;32m----> 1\u001b[0m score, acc \u001b[38;5;241m=\u001b[39m \u001b[43mmodel\u001b[49m\u001b[38;5;241m.\u001b[39mevaluate(X_test_scaled, Y_test)\n\u001b[0;32m      2\u001b[0m \u001b[38;5;28mprint\u001b[39m(\u001b[38;5;124m'\u001b[39m\u001b[38;5;124mTest Loss =\u001b[39m\u001b[38;5;124m'\u001b[39m, score)\n\u001b[0;32m      3\u001b[0m \u001b[38;5;28mprint\u001b[39m(\u001b[38;5;124m'\u001b[39m\u001b[38;5;124mTest Accuracy =\u001b[39m\u001b[38;5;124m'\u001b[39m, acc)\n",
      "\u001b[1;31mNameError\u001b[0m: name 'model' is not defined"
     ]
    }
   ],
   "source": [
    "score, acc = model.evaluate(X_test_scaled, Y_test)\n",
    "print('Test Loss =', score)\n",
    "print('Test Accuracy =', acc)"
   ]
  },
  {
   "cell_type": "markdown",
   "metadata": {
    "id": "yUaFhbSZUeLN"
   },
   "source": [
    "**Predictive System**"
   ]
  },
  {
   "cell_type": "code",
   "execution_count": 23,
   "metadata": {
    "colab": {
     "base_uri": "https://localhost:8080/",
     "height": 566
    },
    "id": "fKFWurGAUQB_",
    "outputId": "34569ab4-52a5-44a2-f2db-eaa1204e0c4c"
   },
   "outputs": [
    {
     "name": "stdout",
     "output_type": "stream",
     "text": [
      "Path of the image to be predicted: \n"
     ]
    },
    {
     "ename": "NameError",
     "evalue": "name 'cv2' is not defined",
     "output_type": "error",
     "traceback": [
      "\u001b[1;31m---------------------------------------------------------------------------\u001b[0m",
      "\u001b[1;31mNameError\u001b[0m                                 Traceback (most recent call last)",
      "Input \u001b[1;32mIn [23]\u001b[0m, in \u001b[0;36m<cell line: 3>\u001b[1;34m()\u001b[0m\n\u001b[0;32m      1\u001b[0m input_image_path \u001b[38;5;241m=\u001b[39m \u001b[38;5;28minput\u001b[39m(\u001b[38;5;124m'\u001b[39m\u001b[38;5;124mPath of the image to be predicted: \u001b[39m\u001b[38;5;124m'\u001b[39m)\n\u001b[1;32m----> 3\u001b[0m input_image \u001b[38;5;241m=\u001b[39m \u001b[43mcv2\u001b[49m\u001b[38;5;241m.\u001b[39mimread(input_image_path)\n\u001b[0;32m      5\u001b[0m cv2_imshow(input_image)\n\u001b[0;32m      7\u001b[0m input_image_resize \u001b[38;5;241m=\u001b[39m cv2\u001b[38;5;241m.\u001b[39mresize(input_image, (\u001b[38;5;241m224\u001b[39m,\u001b[38;5;241m224\u001b[39m))\n",
      "\u001b[1;31mNameError\u001b[0m: name 'cv2' is not defined"
     ]
    }
   ],
   "source": [
    "input_image_path = input('Path of the image to be predicted: ')\n",
    "\n",
    "input_image = cv2.imread(input_image_path)\n",
    "\n",
    "cv2_imshow(input_image)\n",
    "\n",
    "input_image_resize = cv2.resize(input_image, (224,224))\n",
    "\n",
    "input_image_scaled = input_image_resize/255\n",
    "\n",
    "image_reshaped = np.reshape(input_image_scaled, [1,224,224,3])\n",
    "\n",
    "input_prediction = model.predict(image_reshaped)\n",
    "\n",
    "print(input_prediction)\n",
    "\n",
    "input_pred_label = np.argmax(input_prediction)\n",
    "\n",
    "print(input_pred_label)\n",
    "\n",
    "if input_pred_label == 0:\n",
    "  print('The image represents a Cat')\n",
    "\n",
    "else:\n",
    "  print('The image represents a Dog')"
   ]
  },
  {
   "cell_type": "code",
   "execution_count": 24,
   "metadata": {
    "colab": {
     "base_uri": "https://localhost:8080/",
     "height": 269
    },
    "id": "xbQHrYESVvwO",
    "outputId": "e23e32c5-caa6-492b-b32c-db995255b0b2"
   },
   "outputs": [
    {
     "name": "stdout",
     "output_type": "stream",
     "text": [
      "Path of the image to be predicted: \n"
     ]
    },
    {
     "ename": "NameError",
     "evalue": "name 'cv2' is not defined",
     "output_type": "error",
     "traceback": [
      "\u001b[1;31m---------------------------------------------------------------------------\u001b[0m",
      "\u001b[1;31mNameError\u001b[0m                                 Traceback (most recent call last)",
      "Input \u001b[1;32mIn [24]\u001b[0m, in \u001b[0;36m<cell line: 3>\u001b[1;34m()\u001b[0m\n\u001b[0;32m      1\u001b[0m input_image_path \u001b[38;5;241m=\u001b[39m \u001b[38;5;28minput\u001b[39m(\u001b[38;5;124m'\u001b[39m\u001b[38;5;124mPath of the image to be predicted: \u001b[39m\u001b[38;5;124m'\u001b[39m)\n\u001b[1;32m----> 3\u001b[0m input_image \u001b[38;5;241m=\u001b[39m \u001b[43mcv2\u001b[49m\u001b[38;5;241m.\u001b[39mimread(input_image_path)\n\u001b[0;32m      5\u001b[0m cv2_imshow(input_image)\n\u001b[0;32m      7\u001b[0m input_image_resize \u001b[38;5;241m=\u001b[39m cv2\u001b[38;5;241m.\u001b[39mresize(input_image, (\u001b[38;5;241m224\u001b[39m,\u001b[38;5;241m224\u001b[39m))\n",
      "\u001b[1;31mNameError\u001b[0m: name 'cv2' is not defined"
     ]
    }
   ],
   "source": [
    "input_image_path = input('Path of the image to be predicted: ')\n",
    "\n",
    "input_image = cv2.imread(input_image_path)\n",
    "\n",
    "cv2_imshow(input_image)\n",
    "\n",
    "input_image_resize = cv2.resize(input_image, (224,224))\n",
    "\n",
    "input_image_scaled = input_image_resize/255\n",
    "\n",
    "image_reshaped = np.reshape(input_image_scaled, [1,224,224,3])\n",
    "\n",
    "input_prediction = model.predict(image_reshaped)\n",
    "\n",
    "print(input_prediction)\n",
    "\n",
    "input_pred_label = np.argmax(input_prediction)\n",
    "\n",
    "print(input_pred_label)\n",
    "\n",
    "if input_pred_label == 0:\n",
    "  print('The image represents a Cat')\n",
    "\n",
    "else:\n",
    "  print('The image represents a Dog')"
   ]
  },
  {
   "cell_type": "code",
   "execution_count": null,
   "metadata": {
    "id": "bVyr5uCjW0Qk"
   },
   "outputs": [],
   "source": []
  },
  {
   "cell_type": "code",
   "execution_count": null,
   "metadata": {},
   "outputs": [],
   "source": []
  },
  {
   "cell_type": "code",
   "execution_count": null,
   "metadata": {},
   "outputs": [],
   "source": []
  },
  {
   "cell_type": "code",
   "execution_count": null,
   "metadata": {},
   "outputs": [],
   "source": []
  },
  {
   "cell_type": "code",
   "execution_count": null,
   "metadata": {},
   "outputs": [],
   "source": []
  }
 ],
 "metadata": {
  "colab": {
   "collapsed_sections": [],
   "name": "DL Project 3. Dog vs Cat Classification - Transfer Learning.ipynb",
   "provenance": []
  },
  "kernelspec": {
   "display_name": "Python 3 (ipykernel)",
   "language": "python",
   "name": "python3"
  },
  "language_info": {
   "codemirror_mode": {
    "name": "ipython",
    "version": 3
   },
   "file_extension": ".py",
   "mimetype": "text/x-python",
   "name": "python",
   "nbconvert_exporter": "python",
   "pygments_lexer": "ipython3",
   "version": "3.9.12"
  }
 },
 "nbformat": 4,
 "nbformat_minor": 1
}
